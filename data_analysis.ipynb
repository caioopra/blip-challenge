{
 "cells": [
  {
   "cell_type": "code",
   "execution_count": 1,
   "id": "0ebed79a",
   "metadata": {},
   "outputs": [],
   "source": [
    "import pandas as pd\n",
    "import numpy as np\n",
    "import matplotlib.pyplot as plt"
   ]
  },
  {
   "cell_type": "markdown",
   "id": "ca292687",
   "metadata": {},
   "source": [
    "# Analisando categorias das colunas"
   ]
  },
  {
   "cell_type": "code",
   "execution_count": null,
   "id": "545e4884",
   "metadata": {},
   "outputs": [
    {
     "data": {
      "text/plain": [
       "(100, 10)"
      ]
     },
     "execution_count": 4,
     "metadata": {},
     "output_type": "execute_result"
    }
   ],
   "source": [
    "df = pd.read_csv(\"data/tickets_atendimento_sinteticos.csv\", sep=';')  # o .csv está usando ponto e vírgula como separador\n",
    "df.shape"
   ]
  },
  {
   "cell_type": "code",
   "execution_count": 5,
   "id": "1e448214",
   "metadata": {},
   "outputs": [
    {
     "data": {
      "text/html": [
       "<div>\n",
       "<style scoped>\n",
       "    .dataframe tbody tr th:only-of-type {\n",
       "        vertical-align: middle;\n",
       "    }\n",
       "\n",
       "    .dataframe tbody tr th {\n",
       "        vertical-align: top;\n",
       "    }\n",
       "\n",
       "    .dataframe thead th {\n",
       "        text-align: right;\n",
       "    }\n",
       "</style>\n",
       "<table border=\"1\" class=\"dataframe\">\n",
       "  <thead>\n",
       "    <tr style=\"text-align: right;\">\n",
       "      <th></th>\n",
       "      <th>ticket_id</th>\n",
       "      <th>data_criacao</th>\n",
       "      <th>data_fechamento</th>\n",
       "      <th>tempo_resolucao</th>\n",
       "      <th>tipo_solicitacao</th>\n",
       "      <th>canal</th>\n",
       "      <th>prioridade</th>\n",
       "      <th>status</th>\n",
       "      <th>responsavel</th>\n",
       "      <th>satisfacao_cliente</th>\n",
       "    </tr>\n",
       "  </thead>\n",
       "  <tbody>\n",
       "    <tr>\n",
       "      <th>0</th>\n",
       "      <td>TKT0001</td>\n",
       "      <td>2025-06-13 03:00:00</td>\n",
       "      <td>2025-06-13 07:00:00</td>\n",
       "      <td>4</td>\n",
       "      <td>Reclamação</td>\n",
       "      <td>Telefone</td>\n",
       "      <td>Baixa</td>\n",
       "      <td>Pendente</td>\n",
       "      <td>Ana</td>\n",
       "      <td>5</td>\n",
       "    </tr>\n",
       "    <tr>\n",
       "      <th>1</th>\n",
       "      <td>TKT0002</td>\n",
       "      <td>2025-01-23 18:00:00</td>\n",
       "      <td>2025-01-26 01:00:00</td>\n",
       "      <td>55</td>\n",
       "      <td>Suporte técnico</td>\n",
       "      <td>E-mail</td>\n",
       "      <td>Baixa</td>\n",
       "      <td>Fechado</td>\n",
       "      <td>Eduarda</td>\n",
       "      <td>5</td>\n",
       "    </tr>\n",
       "    <tr>\n",
       "      <th>2</th>\n",
       "      <td>TKT0003</td>\n",
       "      <td>2025-01-07 17:00:00</td>\n",
       "      <td>2025-01-08 19:00:00</td>\n",
       "      <td>26</td>\n",
       "      <td>Feedback</td>\n",
       "      <td>WhatsApp</td>\n",
       "      <td>Baixa</td>\n",
       "      <td>Pendente</td>\n",
       "      <td>Carla</td>\n",
       "      <td>1</td>\n",
       "    </tr>\n",
       "    <tr>\n",
       "      <th>3</th>\n",
       "      <td>TKT0004</td>\n",
       "      <td>2025-02-10 22:00:00</td>\n",
       "      <td>2025-02-13 05:00:00</td>\n",
       "      <td>55</td>\n",
       "      <td>Reclamação</td>\n",
       "      <td>Chat</td>\n",
       "      <td>Baixa</td>\n",
       "      <td>Em andamento</td>\n",
       "      <td>Ana</td>\n",
       "      <td>1</td>\n",
       "    </tr>\n",
       "    <tr>\n",
       "      <th>4</th>\n",
       "      <td>TKT0005</td>\n",
       "      <td>2025-04-08 03:00:00</td>\n",
       "      <td>2025-04-10 01:00:00</td>\n",
       "      <td>46</td>\n",
       "      <td>Reclamação</td>\n",
       "      <td>Portal</td>\n",
       "      <td>Baixa</td>\n",
       "      <td>Fechado</td>\n",
       "      <td>Diego</td>\n",
       "      <td>5</td>\n",
       "    </tr>\n",
       "  </tbody>\n",
       "</table>\n",
       "</div>"
      ],
      "text/plain": [
       "  ticket_id         data_criacao      data_fechamento  tempo_resolucao  \\\n",
       "0   TKT0001  2025-06-13 03:00:00  2025-06-13 07:00:00                4   \n",
       "1   TKT0002  2025-01-23 18:00:00  2025-01-26 01:00:00               55   \n",
       "2   TKT0003  2025-01-07 17:00:00  2025-01-08 19:00:00               26   \n",
       "3   TKT0004  2025-02-10 22:00:00  2025-02-13 05:00:00               55   \n",
       "4   TKT0005  2025-04-08 03:00:00  2025-04-10 01:00:00               46   \n",
       "\n",
       "  tipo_solicitacao     canal prioridade        status responsavel  \\\n",
       "0       Reclamação  Telefone      Baixa      Pendente         Ana   \n",
       "1  Suporte técnico    E-mail      Baixa       Fechado     Eduarda   \n",
       "2         Feedback  WhatsApp      Baixa      Pendente       Carla   \n",
       "3       Reclamação      Chat      Baixa  Em andamento         Ana   \n",
       "4       Reclamação    Portal      Baixa       Fechado       Diego   \n",
       "\n",
       "   satisfacao_cliente  \n",
       "0                   5  \n",
       "1                   5  \n",
       "2                   1  \n",
       "3                   1  \n",
       "4                   5  "
      ]
     },
     "execution_count": 5,
     "metadata": {},
     "output_type": "execute_result"
    }
   ],
   "source": [
    "df.head()"
   ]
  },
  {
   "cell_type": "code",
   "execution_count": 7,
   "id": "26c76a6a",
   "metadata": {},
   "outputs": [
    {
     "name": "stdout",
     "output_type": "stream",
     "text": [
      "Valores únicos para tipo_solicitacao:\n",
      "['Reclamação' 'Suporte técnico' 'Feedback' 'Dúvida'\n",
      " 'Solicitação de serviço']\n",
      "\n",
      "\n",
      "Valores únicos para canal:\n",
      "['Telefone' 'E-mail' 'WhatsApp' 'Chat' 'Portal']\n",
      "\n",
      "\n",
      "Valores únicos para prioridade:\n",
      "['Baixa' 'Alta' 'Média']\n",
      "\n",
      "\n",
      "Valores únicos para status:\n",
      "['Pendente' 'Fechado' 'Em andamento']\n",
      "\n",
      "\n"
     ]
    }
   ],
   "source": [
    "features_to_analyze = [\"tipo_solicitacao\", \"canal\", \"prioridade\", \"status\"]\n",
    "# a partir dessas features, analizar todos os possíveis valores únicos\n",
    "\n",
    "for feature in features_to_analyze:\n",
    "    print(f\"Valores únicos para {feature}:\")\n",
    "    print(df[feature].unique())\n",
    "    print(\"\\n\")"
   ]
  },
  {
   "cell_type": "code",
   "execution_count": null,
   "id": "6875d3a9",
   "metadata": {},
   "outputs": [],
   "source": []
  }
 ],
 "metadata": {
  "kernelspec": {
   "display_name": "Python 3",
   "language": "python",
   "name": "python3"
  },
  "language_info": {
   "codemirror_mode": {
    "name": "ipython",
    "version": 3
   },
   "file_extension": ".py",
   "mimetype": "text/x-python",
   "name": "python",
   "nbconvert_exporter": "python",
   "pygments_lexer": "ipython3",
   "version": "3.10.12"
  }
 },
 "nbformat": 4,
 "nbformat_minor": 5
}
